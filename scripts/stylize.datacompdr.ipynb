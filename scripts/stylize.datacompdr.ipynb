{
  "nbformat": 4,
  "nbformat_minor": 0,
  "metadata": {
    "colab": {
      "provenance": [],
      "machine_shape": "hm",
      "gpuType": "V28"
    },
    "kernelspec": {
      "name": "python3",
      "display_name": "Python 3"
    },
    "language_info": {
      "name": "python"
    },
    "accelerator": "TPU"
  },
  "cells": [
    {
      "cell_type": "code",
      "source": [
        "!echo 'deb [trusted=yes] https://apt.fury.io/ascii-image-converter/ /' | tee /etc/apt/sources.list.d/ascii-image-converter.list"
      ],
      "metadata": {
        "id": "UibuLKzpBcv9"
      },
      "execution_count": null,
      "outputs": []
    },
    {
      "cell_type": "code",
      "source": [
        "!apt update\n",
        "!apt install -y ascii-image-converter"
      ],
      "metadata": {
        "id": "bllIXG1OBLsQ"
      },
      "execution_count": null,
      "outputs": []
    },
    {
      "cell_type": "code",
      "execution_count": null,
      "metadata": {
        "id": "UKxVnXi47sjj"
      },
      "outputs": [],
      "source": [
        "!pip install -U datasets pyarrow requests scrapscii tqdm"
      ]
    },
    {
      "cell_type": "code",
      "source": [
        "import hashlib\n",
        "import io\n",
        "import itertools\n",
        "import json\n",
        "import os\n",
        "import random\n",
        "import subprocess\n",
        "import tempfile\n",
        "import urllib\n",
        "\n",
        "import datasets\n",
        "import pyarrow.lib as pl\n",
        "import pyarrow.parquet as pq\n",
        "import requests\n",
        "import tqdm\n",
        "\n",
        "import scrapscii.data\n",
        "import scrapscii.unicode"
      ],
      "metadata": {
        "id": "-qNm1jYv8NX7"
      },
      "execution_count": null,
      "outputs": []
    },
    {
      "cell_type": "code",
      "source": [
        "# CONSTANTS ####################################################################\n",
        "\n",
        "WIDTH_MIN = 16\n",
        "WIDTH_MAX = 128\n",
        "\n",
        "TABLE_LEN = 2**14\n",
        "SHARD_LEN = 2**18\n",
        "TOTAL_LEN = 2**24"
      ],
      "metadata": {
        "id": "b6Jq5zmM8c2H"
      },
      "execution_count": null,
      "outputs": []
    },
    {
      "cell_type": "code",
      "source": [
        "# IO ###########################################################################\n",
        "\n",
        "TEMP_PATH = tempfile.mkdtemp()\n",
        "DATA_PATH = '/content/dataset/'"
      ],
      "metadata": {
        "id": "yjzFksTz8iCc"
      },
      "execution_count": null,
      "outputs": []
    },
    {
      "cell_type": "code",
      "source": [
        "# SETUP ########################################################################\n",
        "\n",
        "os.makedirs(DATA_PATH, exist_ok=True)"
      ],
      "metadata": {
        "id": "lAbMSr188vry"
      },
      "execution_count": null,
      "outputs": []
    },
    {
      "cell_type": "code",
      "source": [
        "# CHECK ########################################################################\n",
        "\n",
        "CORRUPTED_HASH = ['4dcb57651a75abfd07fb36c70c6c5108c49bdb34']\n",
        "\n",
        "def is_valid_image(image: bytes) -> bool:\n",
        "    return (\n",
        "        bool(image)\n",
        "        and type(image) == bytes\n",
        "        and not hashlib.sha1(image).hexdigest() in CORRUPTED_HASH)\n",
        "\n",
        "def is_valid_ascii(ascii: str, width: int=WIDTH_MIN) -> bool:\n",
        "    return (\n",
        "        bool(ascii)\n",
        "        and type(ascii) == str\n",
        "        and len(ascii) >= width\n",
        "        and not 'error: can\\'t decode' in ascii.lower())"
      ],
      "metadata": {
        "id": "X1iE-sTF9cIN"
      },
      "execution_count": null,
      "outputs": []
    },
    {
      "cell_type": "code",
      "source": [
        "# DOWNLOAD #####################################################################\n",
        "\n",
        "def download_image(url: str, timeout: int=1) -> bytes:\n",
        "    __bytes = b''\n",
        "    # retrieve the image content as bytes\n",
        "    try:\n",
        "        __response = requests.get(url, timeout=timeout)\n",
        "        __bytes = __response.content\n",
        "    # ignore exceptions\n",
        "    except Exception as __e:\n",
        "        __bytes = b''\n",
        "    # default\n",
        "    return __bytes\n",
        "\n",
        "def format_path(url: str, temp: str=TEMP_PATH) -> str:\n",
        "    # parse the URL\n",
        "    __path = urllib.parse.urlparse(url).path\n",
        "    __filename = __path.split('/')[-1]\n",
        "    __extension = os.path.splitext(__filename)[-1]\n",
        "    # reduce the filename to a fixed size\n",
        "    __hash = hashlib.sha1(url.encode('utf-8')).hexdigest()\n",
        "    # safe path\n",
        "    return os.path.join(temp, __hash + __extension)\n",
        "\n",
        "def export_image(data: bytes, path: str) -> None:\n",
        "    with open(path, 'b+w') as __file:\n",
        "        __file.write(data)"
      ],
      "metadata": {
        "id": "BMxRtAstbhCx"
      },
      "execution_count": null,
      "outputs": []
    },
    {
      "cell_type": "code",
      "source": [
        "# CLEAR ########################################################################\n",
        "\n",
        "def list_files(path: str, extension: str='') -> list:\n",
        "    return [\n",
        "        os.path.join(__dp, __f)\n",
        "        for __dp, __dn, __fn in os.walk(path)\n",
        "        for __f in __fn if extension in __f]\n",
        "\n",
        "def clear_dir(path: str) -> None:\n",
        "    __paths = list_files(path)\n",
        "    for __p in __paths:\n",
        "        os.remove(__p)"
      ],
      "metadata": {
        "id": "XCqh1TMZbjtG"
      },
      "execution_count": null,
      "outputs": []
    },
    {
      "cell_type": "code",
      "source": [
        "# RANDOM #######################################################################\n",
        "\n",
        "def random_options(width_min: int=WIDTH_MIN, width_max: int=WIDTH_MAX) -> list:\n",
        "    # choose the config randomly\n",
        "    __width = '--width {width}'.format(width=random.randint(width_min, width_max))\n",
        "    __braille = '--braille' if random.choice([True, False]) else ''\n",
        "    __complex = '--complex' if random.choice([True, False]) else ''\n",
        "    __dither = '--dither' if __braille and random.choice([True, False]) else ''\n",
        "    __grayscale = '--grayscale' if random.choice([False]) else '' # colorless terminal\n",
        "    __negative = '--negative' if random.choice([True, False]) else ''\n",
        "    # chain all the options\n",
        "    return [__width, __braille, __complex, __dither, __grayscale, __negative]\n",
        "\n",
        "def format_args(options: list) -> list:\n",
        "    return list(itertools.chain.from_iterable(__o.split(' ') for __o in options if __o))\n",
        "\n",
        "def format_labels(options: list) -> list:\n",
        "    return list(itertools.chain.from_iterable(__o.strip('--') for __o in options if __o))"
      ],
      "metadata": {
        "id": "-FXXrcZcbzW0"
      },
      "execution_count": null,
      "outputs": []
    },
    {
      "cell_type": "code",
      "source": [
        "# EXPORT #######################################################################\n",
        "\n",
        "def export_table(table: iter, index: int, path: str=DATA_PATH) -> None:\n",
        "    __path = os.path.join(path, '{index:0>4d}.parquet'.format(index=index))\n",
        "    scrapscii.data.export_table_as_parquet(table=table, path=__path)"
      ],
      "metadata": {
        "id": "LfqLLcSFb_pC"
      },
      "execution_count": null,
      "outputs": []
    },
    {
      "cell_type": "code",
      "source": [
        "# CONVERT ######################################################################\n",
        "\n",
        "def convert_shard(\n",
        "    dataset: iter,\n",
        "    table: iter=[],\n",
        "    table_idx: int=0,\n",
        "    table_len: int=TABLE_LEN,\n",
        "    shard_len: int=SHARD_LEN,\n",
        "    width_min: int=WIDTH_MIN,\n",
        "    width_max: int=WIDTH_MAX,\n",
        "    temp_path: str=TEMP_PATH,\n",
        "    data_path: str=DATA_PATH,\n",
        ") -> tuple:\n",
        "    # current table\n",
        "    __index = table_idx # index\n",
        "    __table = list(table) # data\n",
        "\n",
        "    # take a shard's worth of data\n",
        "    __iter = itertools.islice(dataset, 0, shard_len)\n",
        "\n",
        "    # iterate over the samples\n",
        "    for __sample in tqdm.tqdm(__iter, total=shard_len):\n",
        "\n",
        "        # parse the URL\n",
        "        __url = __sample['url.txt']\n",
        "        __path = format_path(url=__url, temp=temp_path)\n",
        "\n",
        "        # download image from URL\n",
        "        __bytes = download_image(__url)\n",
        "\n",
        "        # check hex digest\n",
        "        if is_valid_image(__bytes):\n",
        "            export_image(data=__bytes, path=__path)\n",
        "        else:\n",
        "            tqdm.tqdm.write(f'Skip corrupted {__url}')\n",
        "            continue\n",
        "\n",
        "        # choose the config randomly\n",
        "        __options = random_options(width_min=width_min, width_max=width_max)\n",
        "        __args = format_args(__options)\n",
        "        __labels = format_labels(__options)\n",
        "\n",
        "        # choose a caption among the synthetic text\n",
        "        __choice = random.randint(0, len(__sample['syn.json']['syn_text']) - 1)\n",
        "        __caption = __sample['syn.json']['syn_text'][__choice]\n",
        "\n",
        "        # convert the image to ASCII art\n",
        "        __process = subprocess.run(['ascii-image-converter'] + __args + [__path], stdout=subprocess.PIPE)\n",
        "        __content = __process.stdout.decode('utf-8')\n",
        "\n",
        "        # check for conversion errors\n",
        "        if is_valid_ascii(__content):\n",
        "            __table.append({\n",
        "                'caption': __caption,\n",
        "                'content': __content,\n",
        "                'labels': ','.join(__labels),\n",
        "                'charsets': ','.join(set(scrapscii.unicode.lookup_section(__c) for __c in __content)),\n",
        "                'chartypes': ','.join(set(scrapscii.unicode.lookup_category(__c) for __c in __content)),})\n",
        "        else:\n",
        "            tqdm.tqdm.write(f'Failed to convert {__url}')\n",
        "            continue\n",
        "\n",
        "        # chunk the dataset into shards\n",
        "        if len(__table) >= table_len:\n",
        "            # export as parquet\n",
        "            export_table(table=__table, index=__index, path=data_path)\n",
        "            # refresh\n",
        "            __index += 1\n",
        "            __table = []\n",
        "\n",
        "    # return the remainder\n",
        "    return (__index, __table)"
      ],
      "metadata": {
        "id": "p2BwDXnd9gb8"
      },
      "execution_count": null,
      "outputs": []
    },
    {
      "cell_type": "code",
      "source": [
        "# MAIN #########################################################################\n",
        "\n",
        "# init the table\n",
        "__index = 0 # index\n",
        "__table = [] # data\n",
        "\n",
        "# init the dataset\n",
        "__dataset = datasets.load_dataset('apple/DataCompDR-12M', split='train', cache_dir='~/.cache/huggingface/datasets', streaming=True)\n",
        "__iter = itertools.islice(__dataset, 0, TOTAL_LEN)\n",
        "\n",
        "# convert shard by shard\n",
        "while __iter:\n",
        "    # export a shard\n",
        "    __index, __table = convert_shard(\n",
        "        dataset=__iter,\n",
        "        table=__table,\n",
        "        table_idx=__index,\n",
        "        table_len=TABLE_LEN,\n",
        "        shard_len=SHARD_LEN,\n",
        "        width_min=WIDTH_MIN,\n",
        "        width_max=WIDTH_MAX,\n",
        "        temp_path=TEMP_PATH,\n",
        "        data_path=DATA_PATH,)\n",
        "    # remove the temp downloads (images)\n",
        "    clear_dir(TEMP_PATH)"
      ],
      "metadata": {
        "id": "xkHllEaQcW6X"
      },
      "execution_count": null,
      "outputs": []
    }
  ]
}